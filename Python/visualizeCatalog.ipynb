{
 "cells": [
  {
   "cell_type": "code",
   "execution_count": 5,
   "metadata": {},
   "outputs": [],
   "source": [
    "from mpl_toolkits.mplot3d import Axes3D\n",
    "import matplotlib.pyplot as plt\n",
    "import pandas as pd\n",
    "import numpy as np\n",
    "import seaborn as sns\n",
    "\n",
    "%matplotlib inline\n",
    "catalog = pd.read_csv('catalogTest.csv')"
   ]
  },
  {
   "cell_type": "code",
   "execution_count": 6,
   "metadata": {},
   "outputs": [
    {
     "name": "stdout",
     "output_type": "stream",
     "text": [
      "Index(['satnum', 'epochyr', 'epochdays', 'jdsatepoch', 'ndot', 'nddot',\n",
      "       'bstar', 'inclination', 'rightascension', 'eccentricity',\n",
      "       'argofperigee', 'meanmotion', 'meananomaly'],\n",
      "      dtype='object')\n"
     ]
    }
   ],
   "source": [
    "print(catalog.columns)"
   ]
  },
  {
   "cell_type": "code",
   "execution_count": 7,
   "metadata": {},
   "outputs": [
    {
     "data": {
      "text/html": [
       "<div>\n",
       "<style scoped>\n",
       "    .dataframe tbody tr th:only-of-type {\n",
       "        vertical-align: middle;\n",
       "    }\n",
       "\n",
       "    .dataframe tbody tr th {\n",
       "        vertical-align: top;\n",
       "    }\n",
       "\n",
       "    .dataframe thead th {\n",
       "        text-align: right;\n",
       "    }\n",
       "</style>\n",
       "<table border=\"1\" class=\"dataframe\">\n",
       "  <thead>\n",
       "    <tr style=\"text-align: right;\">\n",
       "      <th></th>\n",
       "      <th>satnum</th>\n",
       "      <th>epochyr</th>\n",
       "      <th>epochdays</th>\n",
       "      <th>jdsatepoch</th>\n",
       "      <th>ndot</th>\n",
       "      <th>nddot</th>\n",
       "      <th>bstar</th>\n",
       "      <th>inclination</th>\n",
       "      <th>rightascension</th>\n",
       "      <th>eccentricity</th>\n",
       "      <th>argofperigee</th>\n",
       "      <th>meanmotion</th>\n",
       "      <th>meananomaly</th>\n",
       "    </tr>\n",
       "  </thead>\n",
       "  <tbody>\n",
       "    <tr>\n",
       "      <th>0</th>\n",
       "      <td>5</td>\n",
       "      <td>2020</td>\n",
       "      <td>4.258084</td>\n",
       "      <td>2.458853e+06</td>\n",
       "      <td>6.181374e-12</td>\n",
       "      <td>0.0</td>\n",
       "      <td>0.000257</td>\n",
       "      <td>0.597868</td>\n",
       "      <td>0.300902</td>\n",
       "      <td>0.184552</td>\n",
       "      <td>5.741165</td>\n",
       "      <td>0.047310</td>\n",
       "      <td>0.373089</td>\n",
       "    </tr>\n",
       "    <tr>\n",
       "      <th>1</th>\n",
       "      <td>5</td>\n",
       "      <td>2020</td>\n",
       "      <td>5.179169</td>\n",
       "      <td>2.458854e+06</td>\n",
       "      <td>6.151074e-12</td>\n",
       "      <td>0.0</td>\n",
       "      <td>0.000258</td>\n",
       "      <td>0.597856</td>\n",
       "      <td>0.251387</td>\n",
       "      <td>0.184549</td>\n",
       "      <td>5.813491</td>\n",
       "      <td>0.047310</td>\n",
       "      <td>0.322176</td>\n",
       "    </tr>\n",
       "    <tr>\n",
       "      <th>2</th>\n",
       "      <td>11</td>\n",
       "      <td>2020</td>\n",
       "      <td>4.920956</td>\n",
       "      <td>2.458853e+06</td>\n",
       "      <td>8.514540e-12</td>\n",
       "      <td>0.0</td>\n",
       "      <td>0.000155</td>\n",
       "      <td>0.573664</td>\n",
       "      <td>5.465471</td>\n",
       "      <td>0.146796</td>\n",
       "      <td>0.744550</td>\n",
       "      <td>0.051704</td>\n",
       "      <td>5.723074</td>\n",
       "    </tr>\n",
       "    <tr>\n",
       "      <th>3</th>\n",
       "      <td>11</td>\n",
       "      <td>2020</td>\n",
       "      <td>5.173718</td>\n",
       "      <td>2.458854e+06</td>\n",
       "      <td>8.544841e-12</td>\n",
       "      <td>0.0</td>\n",
       "      <td>0.000155</td>\n",
       "      <td>0.573662</td>\n",
       "      <td>5.448909</td>\n",
       "      <td>0.146796</td>\n",
       "      <td>0.769455</td>\n",
       "      <td>0.051704</td>\n",
       "      <td>5.703399</td>\n",
       "    </tr>\n",
       "  </tbody>\n",
       "</table>\n",
       "</div>"
      ],
      "text/plain": [
       "   satnum  epochyr  epochdays    jdsatepoch          ndot  nddot     bstar  \\\n",
       "0       5     2020   4.258084  2.458853e+06  6.181374e-12    0.0  0.000257   \n",
       "1       5     2020   5.179169  2.458854e+06  6.151074e-12    0.0  0.000258   \n",
       "2      11     2020   4.920956  2.458853e+06  8.514540e-12    0.0  0.000155   \n",
       "3      11     2020   5.173718  2.458854e+06  8.544841e-12    0.0  0.000155   \n",
       "\n",
       "   inclination  rightascension  eccentricity  argofperigee  meanmotion  \\\n",
       "0     0.597868        0.300902      0.184552      5.741165    0.047310   \n",
       "1     0.597856        0.251387      0.184549      5.813491    0.047310   \n",
       "2     0.573664        5.465471      0.146796      0.744550    0.051704   \n",
       "3     0.573662        5.448909      0.146796      0.769455    0.051704   \n",
       "\n",
       "   meananomaly  \n",
       "0     0.373089  \n",
       "1     0.322176  \n",
       "2     5.723074  \n",
       "3     5.703399  "
      ]
     },
     "execution_count": 7,
     "metadata": {},
     "output_type": "execute_result"
    }
   ],
   "source": [
    "catalog.head(4)"
   ]
  },
  {
   "cell_type": "code",
   "execution_count": 8,
   "metadata": {},
   "outputs": [
    {
     "data": {
      "image/png": "[encoded data removed]",
      "text/plain": [
       "<Figure size 432x288 with 1 Axes>"
      ]
     },
     "metadata": {
      "needs_background": "light"
     },
     "output_type": "display_data"
    }
   ],
   "source": [
    "histIncl = catalog.hist(column='inclination',bins=100)"
   ]
  },
  {
   "cell_type": "code",
   "execution_count": 9,
   "metadata": {},
   "outputs": [
    {
     "data": {
      "image/png": "[encoded data removed]",
      "text/plain": [
       "<Figure size 432x288 with 1 Axes>"
      ]
     },
     "metadata": {
      "needs_background": "light"
     },
     "output_type": "display_data"
    }
   ],
   "source": [
    "histIncl = catalog.hist(column='eccentricity',bins=100)"
   ]
  },
  {
   "cell_type": "code",
   "execution_count": 10,
   "metadata": {},
   "outputs": [
    {
     "data": {
      "image/png": "[encoded data removed]",
      "text/plain": [
       "<Figure size 432x288 with 1 Axes>"
      ]
     },
     "metadata": {
      "needs_background": "light"
     },
     "output_type": "display_data"
    }
   ],
   "source": [
    "histMM = catalog.hist(column='meanmotion',bins=100)"
   ]
  },
  {
   "cell_type": "code",
   "execution_count": 11,
   "metadata": {},
   "outputs": [],
   "source": [
    "# Create a column for orbital period and one for revs/day\n",
    "# Mean Motion is the the fraction of a radian traveled in 1 minute\n",
    "# Revs per day is 1440*mean_motion/2*pi\n",
    "# Orbital period is 1440/revs_per_day\n",
    "minutesPerDay = 1440.\n",
    "catalog['revsPerDay'] = catalog['meanmotion']*minutesPerDay/(2*np.pi)\n",
    "catalog['period']     = minutesPerDay/catalog['revsPerDay']"
   ]
  },
  {
   "cell_type": "code",
   "execution_count": 1,
   "metadata": {},
   "outputs": [
    {
     "ename": "NameError",
     "evalue": "name 'catalog' is not defined",
     "output_type": "error",
     "traceback": [
      "\u001b[0;31m---------------------------------------------------------------------------\u001b[0m",
      "\u001b[0;31mNameError\u001b[0m                                 Traceback (most recent call last)",
      "\u001b[0;32m<ipython-input-1-9ca2a728afe0>\u001b[0m in \u001b[0;36m<module>\u001b[0;34m\u001b[0m\n\u001b[0;32m----> 1\u001b[0;31m \u001b[0mhistPeriod\u001b[0m \u001b[0;34m=\u001b[0m \u001b[0mcatalog\u001b[0m\u001b[0;34m.\u001b[0m\u001b[0mhist\u001b[0m\u001b[0;34m(\u001b[0m\u001b[0mcolumn\u001b[0m\u001b[0;34m=\u001b[0m\u001b[0;34m'revsPerDay'\u001b[0m\u001b[0;34m,\u001b[0m\u001b[0mbins\u001b[0m\u001b[0;34m=\u001b[0m\u001b[0;36m100\u001b[0m\u001b[0;34m)\u001b[0m\u001b[0;34m\u001b[0m\u001b[0;34m\u001b[0m\u001b[0m\n\u001b[0m",
      "\u001b[0;31mNameError\u001b[0m: name 'catalog' is not defined"
     ]
    }
   ],
   "source": [
    "histPeriod = catalog.hist(column='revsPerDay',bins=100)"
   ]
  },
  {
   "cell_type": "code",
   "execution_count": 13,
   "metadata": {},
   "outputs": [
    {
     "data": {
      "image/png": "[encoded data removed]",
      "text/plain": [
       "<Figure size 432x288 with 1 Axes>"
      ]
     },
     "metadata": {
      "needs_background": "light"
     },
     "output_type": "display_data"
    }
   ],
   "source": [
    "histRevsPerDay = catalog.hist(column='revsPerDay',bins=100)"
   ]
  },
  {
   "cell_type": "code",
   "execution_count": 14,
   "metadata": {},
   "outputs": [],
   "source": [
    "# Plot the inclinaation and eccentricity of objects with ~1 rev/day\n",
    "geosync = catalog[catalog['revsPerDay'] < 1.5]"
   ]
  },
  {
   "cell_type": "code",
   "execution_count": 15,
   "metadata": {},
   "outputs": [
    {
     "data": {
      "image/png": "[encoded data removed]",
      "text/plain": [
       "<Figure size 432x288 with 1 Axes>"
      ]
     },
     "metadata": {
      "needs_background": "light"
     },
     "output_type": "display_data"
    }
   ],
   "source": [
    "histGeoSync = geosync.hist(column='revsPerDay',bins=100)"
   ]
  },
  {
   "cell_type": "code",
   "execution_count": 16,
   "metadata": {},
   "outputs": [
    {
     "data": {
      "image/png": "[encoded data removed]",
      "text/plain": [
       "<Figure size 432x288 with 1 Axes>"
      ]
     },
     "metadata": {
      "needs_background": "light"
     },
     "output_type": "display_data"
    }
   ],
   "source": [
    "axGeo = geosync.plot.scatter(x='inclination',y='eccentricity')"
   ]
  },
  {
   "cell_type": "code",
   "execution_count": 17,
   "metadata": {},
   "outputs": [
    {
     "name": "stdout",
     "output_type": "stream",
     "text": [
      "[[1.782e+03 1.600e+01 2.000e+00 3.000e+00 2.000e+00 0.000e+00 0.000e+00\n",
      "  0.000e+00 0.000e+00 7.000e+00]\n",
      " [5.040e+02 8.000e+00 2.000e+00 2.000e+00 0.000e+00 0.000e+00 2.000e+00\n",
      "  0.000e+00 1.000e+00 6.000e+00]\n",
      " [8.000e+00 0.000e+00 0.000e+00 0.000e+00 0.000e+00 0.000e+00 0.000e+00\n",
      "  0.000e+00 0.000e+00 3.000e+00]\n",
      " [7.000e+00 0.000e+00 0.000e+00 0.000e+00 0.000e+00 0.000e+00 0.000e+00\n",
      "  0.000e+00 0.000e+00 1.000e+00]\n",
      " [1.500e+01 0.000e+00 0.000e+00 0.000e+00 0.000e+00 1.000e+00 0.000e+00\n",
      "  0.000e+00 2.000e+00 1.000e+00]\n",
      " [0.000e+00 0.000e+00 0.000e+00 0.000e+00 0.000e+00 0.000e+00 0.000e+00\n",
      "  0.000e+00 0.000e+00 0.000e+00]\n",
      " [0.000e+00 0.000e+00 0.000e+00 0.000e+00 0.000e+00 0.000e+00 0.000e+00\n",
      "  0.000e+00 0.000e+00 0.000e+00]\n",
      " [0.000e+00 0.000e+00 0.000e+00 0.000e+00 0.000e+00 0.000e+00 0.000e+00\n",
      "  0.000e+00 0.000e+00 0.000e+00]\n",
      " [0.000e+00 0.000e+00 0.000e+00 0.000e+00 0.000e+00 0.000e+00 0.000e+00\n",
      "  0.000e+00 0.000e+00 0.000e+00]\n",
      " [0.000e+00 0.000e+00 0.000e+00 0.000e+00 2.000e+00 0.000e+00 0.000e+00\n",
      "  0.000e+00 0.000e+00 0.000e+00]]\n"
     ]
    }
   ],
   "source": [
    "geoHist, xedges, yedges = np.histogram2d(geosync['inclination'],geosync['eccentricity'])\n",
    "print(geoHist)"
   ]
  },
  {
   "cell_type": "code",
   "execution_count": 18,
   "metadata": {},
   "outputs": [
    {
     "data": {
      "image/png": "[encoded data removed]",
      "text/plain": [
       "<Figure size 432x288 with 1 Axes>"
      ]
     },
     "metadata": {
      "needs_background": "light"
     },
     "output_type": "display_data"
    }
   ],
   "source": [
    "geohist2 = plt.hist2d(geosync['inclination'],geosync['eccentricity'],bins=100,cmin=1)\n"
   ]
  },
  {
   "cell_type": "code",
   "execution_count": null,
   "metadata": {},
   "outputs": [],
   "source": []
  },
  {
   "cell_type": "code",
   "execution_count": 19,
   "metadata": {},
   "outputs": [],
   "source": [
    "# Get the objects in a polar orbit\n",
    "polar = catalog[catalog['inclination'] > 1.6]"
   ]
  },
  {
   "cell_type": "code",
   "execution_count": 20,
   "metadata": {},
   "outputs": [
    {
     "data": {
      "image/png": "[encoded data removed]",
      "text/plain": [
       "<Figure size 432x288 with 1 Axes>"
      ]
     },
     "metadata": {
      "needs_background": "light"
     },
     "output_type": "display_data"
    }
   ],
   "source": [
    "polarhist2 = plt.hist2d(polar['revsPerDay'],polar['eccentricity'],bins=100,cmin=1)\n"
   ]
  },
  {
   "cell_type": "code",
   "execution_count": null,
   "metadata": {},
   "outputs": [],
   "source": []
  }
 ],
 "metadata": {
  "kernelspec": {
   "display_name": "Python 3",
   "language": "python",
   "name": "python3"
  },
  "language_info": {
   "codemirror_mode": {
    "name": "ipython",
    "version": 3
   },
   "file_extension": ".py",
   "mimetype": "text/x-python",
   "name": "python",
   "nbconvert_exporter": "python",
   "pygments_lexer": "ipython3",
   "version": "3.7.4"
  }
 },
 "nbformat": 4,
 "nbformat_minor": 4
}
